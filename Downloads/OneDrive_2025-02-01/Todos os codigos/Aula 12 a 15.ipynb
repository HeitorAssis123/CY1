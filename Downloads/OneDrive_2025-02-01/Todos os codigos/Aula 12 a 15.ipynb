{
 "cells": [
  {
   "cell_type": "code",
   "execution_count": 6,
   "id": "4910fb58",
   "metadata": {},
   "outputs": [],
   "source": [
    "class Casa():\n",
    " rua=\"Blue Street\" \n",
    " bairro=\"Good Neighborhood\" \n",
    " CEP=\"123654\" \n",
    " def enderecoCompleto (self):\n",
    "        return \"Endereço Completo: \"+self.rua+ \", \"+ self.bairro+ \" - CEP: \"+ self.CEP"
   ]
  },
  {
   "cell_type": "code",
   "execution_count": 9,
   "id": "ebc38519",
   "metadata": {},
   "outputs": [
    {
     "name": "stdout",
     "output_type": "stream",
     "text": [
      "<class 'int'>\n",
      "<class 'list'>\n"
     ]
    }
   ],
   "source": [
    "#Verificando a classe dos objetos\n",
    "numero=1\n",
    "print(type(numero))\n",
    "lista=[1,2,3]\n",
    "print(type (lista))"
   ]
  },
  {
   "cell_type": "code",
   "execution_count": 11,
   "id": "02e3c598",
   "metadata": {},
   "outputs": [
    {
     "ename": "NameError",
     "evalue": "name 'casal' is not defined",
     "output_type": "error",
     "traceback": [
      "\u001b[1;31m---------------------------------------------------------------------------\u001b[0m",
      "\u001b[1;31mNameError\u001b[0m                                 Traceback (most recent call last)",
      "\u001b[1;32m~\\AppData\\Local\\Temp\\ipykernel_14596\\2505815697.py\u001b[0m in \u001b[0;36m<module>\u001b[1;34m\u001b[0m\n\u001b[0;32m      1\u001b[0m \u001b[0mcasa1\u001b[0m \u001b[1;33m=\u001b[0m \u001b[0mCasa\u001b[0m\u001b[1;33m(\u001b[0m\u001b[1;33m)\u001b[0m\u001b[1;33m\u001b[0m\u001b[1;33m\u001b[0m\u001b[0m\n\u001b[1;32m----> 2\u001b[1;33m \u001b[0mprint\u001b[0m\u001b[1;33m(\u001b[0m\u001b[0mtype\u001b[0m\u001b[1;33m(\u001b[0m\u001b[0mcasal\u001b[0m\u001b[1;33m)\u001b[0m\u001b[1;33m)\u001b[0m\u001b[1;33m\u001b[0m\u001b[1;33m\u001b[0m\u001b[0m\n\u001b[0m",
      "\u001b[1;31mNameError\u001b[0m: name 'casal' is not defined"
     ]
    }
   ],
   "source": [
    "casa1 = Casa() \n",
    "print(type(casal))"
   ]
  },
  {
   "cell_type": "code",
   "execution_count": null,
   "id": "c28d7085",
   "metadata": {},
   "outputs": [],
   "source": [
    "#acessando atributo de um objeto \n",
    "print(casa1.CEP) \n",
    "#acessando método de um objeto \n",
    "print(casa1.enderecoCompleto())"
   ]
  },
  {
   "cell_type": "code",
   "execution_count": 22,
   "id": "f7d50781",
   "metadata": {},
   "outputs": [],
   "source": [
    "class Casa(): \n",
    "\n",
    "    def __init__(self, rua, bairro, CEP): \n",
    "        self.rua = rua\n",
    "        rua.self.bairro = bairro \n",
    "        self.CEP = CEP \n",
    "        \n",
    "    def enderecoCompleto (self): \n",
    "        return \"Endereço Completo: \"+self.rua+ \", \"+ self.bairro+\" - CEP:\"+ self.CEP"
   ]
  },
  {
   "cell_type": "code",
   "execution_count": null,
   "id": "b3601d92",
   "metadata": {},
   "outputs": [],
   "source": [
    "#instanciando dois objetos diferentes \n",
    "casa1 Casa(rua=\"Blue Street\", bairro=\"Good Neighborhood\", CEP=\"123654\") \n",
    "casa2 Casa (rua=\"Street A\", bairro=\"Golden Houses\", CEP=\"123987\") \n",
    "print(casa1.enderecoCompleto()) \n",
    "print(casa2.enderecoCompleto())"
   ]
  },
  {
   "cell_type": "code",
   "execution_count": 26,
   "id": "81bc80fc",
   "metadata": {},
   "outputs": [],
   "source": [
    "class Casa(): \n",
    "    imobiliaria = \"Ctrl Imóveis\" \n",
    "    \n",
    "    def __init__(self, rua, bairro, CEP):\n",
    "        self.rua = rua \n",
    "        self.bairro = bairro\n",
    "        self.CEP = CEP\n",
    "        \n",
    "        def enderecoCompleto (self):\n",
    "            return \"Endereço Completo: \"+self.rua+ \", \"+ self.bairro+ \" -CEP: \"+ self.CEP"
   ]
  },
  {
   "cell_type": "code",
   "execution_count": 27,
   "id": "8f094582",
   "metadata": {},
   "outputs": [],
   "source": [
    "casa1 = Casa(\"Rua A\", \"Bairro Python\", \"123456\") \n",
    "casa2 = Casa(\"Segunda Avenida\", \"Bairro POO\", \"1234353\")\n",
    "casa3 = Casa (\"Rua Ctrl+Play\", \"Bairro Programação e Robótica\", \"312343\")"
   ]
  },
  {
   "cell_type": "code",
   "execution_count": 29,
   "id": "884fddcf",
   "metadata": {},
   "outputs": [
    {
     "name": "stdout",
     "output_type": "stream",
     "text": [
      "Ctrl Imóveis\n",
      "Ctrl Imóveis\n",
      "Ctrl Imóveis\n"
     ]
    }
   ],
   "source": [
    "print(casa1.imobiliaria)\n",
    "print(casa2.imobiliaria)\n",
    "print(casa3.imobiliaria)"
   ]
  },
  {
   "cell_type": "code",
   "execution_count": 32,
   "id": "7b0642ff",
   "metadata": {},
   "outputs": [],
   "source": [
    "class Casa():\n",
    "    imobiliaria = \"Ctrl Imóveis\"\n",
    "    \n",
    "    def _init__(self, rua, bairro, CEP):\n",
    "        self.rua=rua\n",
    "        self.bairro=bairro \n",
    "        self.CEP=CEP \n",
    "        \n",
    "        def getImobiliaria (self):\n",
    "            return self.imobiliaria\n",
    "        \n",
    "        def getRua (self): \n",
    "            return self.rua \n",
    "        \n",
    "        def getBairro(self):\n",
    "            return self.bairro\n",
    "        \n",
    "        def getCEP(self):\n",
    "            return self.CEP \n",
    "        \n",
    "        def setImobiliaria (self, i): \n",
    "            self.imobiliaria = i\n",
    "            \n",
    "        def setRua (self, r):\n",
    "            self.ruar \n",
    "            \n",
    "        def setBairro(self, b): \n",
    "            self.bairro = b \n",
    "            \n",
    "        def setCEP(self, c): \n",
    "            self.CEP = C"
   ]
  },
  {
   "cell_type": "code",
   "execution_count": 38,
   "id": "4b4e4670",
   "metadata": {},
   "outputs": [
    {
     "name": "stdout",
     "output_type": "stream",
     "text": [
      "Um livro foi criado\n",
      "Titulo: Ctrl+Play! autor: Henrique paginas: 1752\n",
      "1752\n",
      "Livro destruido\n"
     ]
    }
   ],
   "source": [
    "class Livro():\n",
    "    def __init__(self, titulo, autor, paginas):\n",
    "        print(\"Um livro foi criado\")\n",
    "        self.titulo=titulo\n",
    "        self.autor=autor\n",
    "        self.paginas = paginas\n",
    "        \n",
    "    def __str__(self): \n",
    "            return \"Titulo: \"+self.titulo+\" autor: \"+self.autor+\" paginas: \"+str(self.paginas)\n",
    "        \n",
    "    def __len__(self):\n",
    "            return self.paginas\n",
    "        \n",
    "    def __del__(self):\n",
    "            print(\"Livro destruido\") \n",
    "            \n",
    "#assim que o Livro for instanciado será executado o método _init_() \n",
    "book=Livro(\"Ctrl+Play!\", \"Henrique\", 1752)\n",
    "\n",
    "# Métodos especiais #dispara o método_str_() \n",
    "print(book) \n",
    "\n",
    "#dispara o método _ Len() \n",
    "print(len(book)) \n",
    "\n",
    "#dispara o método_del_() \n",
    "del book"
   ]
  },
  {
   "cell_type": "code",
   "execution_count": 42,
   "id": "fdd66091",
   "metadata": {},
   "outputs": [
    {
     "name": "stdout",
     "output_type": "stream",
     "text": [
      "1\n",
      "1\n",
      "3\n",
      "2\n",
      "3\n"
     ]
    }
   ],
   "source": [
    "class A:\n",
    "    a= 1# atributo publico\n",
    "    _b = 2# atributo privado a class A\n",
    "    \n",
    "class B(A):\n",
    "        _c = 3 # atributo privado a B\n",
    "        \n",
    "        def __init__(self):\n",
    "            print(self.a)\n",
    "            print(self._c)\n",
    "            \n",
    "a = A()\n",
    "print(a.a) # imprime 1\n",
    "b = B()\n",
    "print(b._b) # Erro, pois _bé privado a classe A.\n",
    "print(b._c) # Erro, cé um atributo privado, somente chamado pela classe."
   ]
  },
  {
   "cell_type": "code",
   "execution_count": 43,
   "id": "a22fb524",
   "metadata": {},
   "outputs": [],
   "source": [
    "class Animal():\n",
    "    def _init__(self):\n",
    "        print(\"Animal criado\") \n",
    "        \n",
    "    def oQueSou(self):\n",
    "        print(\"Animal\")\n",
    "        \n",
    "    def come (self):\n",
    "        print(\"Comendo\")\n",
    "        \n",
    "class Cachorro (Animal):\n",
    "    def __init__(self):\n",
    "        Animal._init__(self)\n",
    "        print(\"Cachorro criado\")\n",
    "        \n",
    "    def oQueSou(self):\n",
    "        print(\"Cachorro\")\n",
    "        \n",
    "    def late(self):\n",
    "        print(\"Auau!\")"
   ]
  },
  {
   "cell_type": "code",
   "execution_count": 45,
   "id": "1e392f9b",
   "metadata": {},
   "outputs": [
    {
     "name": "stdout",
     "output_type": "stream",
     "text": [
      "Animal criado\n",
      "Cachorro criado\n"
     ]
    }
   ],
   "source": [
    "# executa o método _init_() de Cachorro\n",
    "c=Cachorro()"
   ]
  },
  {
   "cell_type": "code",
   "execution_count": 46,
   "id": "de3f4a9b",
   "metadata": {},
   "outputs": [
    {
     "name": "stdout",
     "output_type": "stream",
     "text": [
      "Cachorro\n"
     ]
    }
   ],
   "source": [
    "#oQueSou() de Cachorro substitui oQueSou() de Animal\n",
    "c.oQueSou()"
   ]
  },
  {
   "cell_type": "code",
   "execution_count": 47,
   "id": "ee176e9e",
   "metadata": {},
   "outputs": [
    {
     "name": "stdout",
     "output_type": "stream",
     "text": [
      "Comendo\n"
     ]
    }
   ],
   "source": [
    "# herda de Animal o método come()\n",
    "c.come()"
   ]
  },
  {
   "cell_type": "code",
   "execution_count": 48,
   "id": "0b752d91",
   "metadata": {},
   "outputs": [
    {
     "name": "stdout",
     "output_type": "stream",
     "text": [
      "Auau!\n"
     ]
    }
   ],
   "source": [
    "# Cachorro é uma extensão de Animal e possui métodos próprios.\n",
    "c.late()"
   ]
  },
  {
   "cell_type": "code",
   "execution_count": 54,
   "id": "d0c4fd01",
   "metadata": {},
   "outputs": [
    {
     "ename": "TypeError",
     "evalue": "__init__() takes 1 positional argument but 2 were given",
     "output_type": "error",
     "traceback": [
      "\u001b[1;31m---------------------------------------------------------------------------\u001b[0m",
      "\u001b[1;31mTypeError\u001b[0m                                 Traceback (most recent call last)",
      "\u001b[1;32m~\\AppData\\Local\\Temp\\ipykernel_14596\\2655210811.py\u001b[0m in \u001b[0;36m<module>\u001b[1;34m\u001b[0m\n\u001b[1;32m----> 1\u001b[1;33m \u001b[0mc\u001b[0m \u001b[1;33m=\u001b[0m \u001b[0mCachorro\u001b[0m\u001b[1;33m(\u001b[0m\u001b[1;34m\"Luis\"\u001b[0m\u001b[1;33m)\u001b[0m\u001b[1;33m\u001b[0m\u001b[1;33m\u001b[0m\u001b[0m\n\u001b[0m",
      "\u001b[1;31mTypeError\u001b[0m: __init__() takes 1 positional argument but 2 were given"
     ]
    }
   ],
   "source": [
    "c = Cachorro(\"Luis\")"
   ]
  },
  {
   "cell_type": "code",
   "execution_count": 56,
   "id": "1fc09ffb",
   "metadata": {},
   "outputs": [
    {
     "ename": "IndentationError",
     "evalue": "unexpected indent (185066167.py, line 2)",
     "output_type": "error",
     "traceback": [
      "\u001b[1;36m  File \u001b[1;32m\"C:\\Users\\LAB\\AppData\\Local\\Temp\\ipykernel_14596\\185066167.py\"\u001b[1;36m, line \u001b[1;32m2\u001b[0m\n\u001b[1;33m    c.come()\u001b[0m\n\u001b[1;37m    ^\u001b[0m\n\u001b[1;31mIndentationError\u001b[0m\u001b[1;31m:\u001b[0m unexpected indent\n"
     ]
    }
   ],
   "source": [
    "print(c.getDono())\n",
    "    c.come()\n",
    "    c.late()\n",
    "    c.mover()"
   ]
  },
  {
   "cell_type": "code",
   "execution_count": 57,
   "id": "42318663",
   "metadata": {},
   "outputs": [],
   "source": [
    "# retorna um nome com os sobrenomes em ordem de tamanho\n",
    "def sobrenomeNaOrden(nome, sobrenomel, sobrenome2):\n",
    "    if(len(sobrenome2)>len(sobrenomel)):\n",
    "        return nome+' '+sobrenome1+' '+sobrenome2\n",
    "    else: \n",
    "        return nome+' '+sobrenome2+ +sobrenome1\n",
    "    print(sobrenomeNaOrdem(\"Jose\", \"Dias\", \"Saraiva\"))\n",
    "    print(sobrenomeNaOrdem(\"Joao\", \"Madureira\", \"Silva\"))"
   ]
  },
  {
   "cell_type": "code",
   "execution_count": 58,
   "id": "89b882b3",
   "metadata": {},
   "outputs": [],
   "source": [
    "class Prova():\n",
    "    \n",
    "    def _init__(self):\n",
    "        self.questoes = []\n",
    "        self.respostas = [] \n",
    "        \n",
    "    def mostra_Questoes(self):\n",
    "        print(self.questoes)\n",
    "    \n",
    "    def mostra_Respostas(self):\n",
    "        print(self.questoes)\n",
    "        \n",
    "    def armazena_Questao_Resposta(self,novaQuestao, novaResposta):\n",
    "        self.questoes.append(novaQuestao)\n",
    "        self.respostas.append(novaResposta)"
   ]
  },
  {
   "cell_type": "code",
   "execution_count": 59,
   "id": "4ee69bbc",
   "metadata": {},
   "outputs": [
    {
     "name": "stdout",
     "output_type": "stream",
     "text": [
      "Digite um número 5\n",
      "Digite outro número 0\n"
     ]
    }
   ],
   "source": [
    "x = input(\"Digite um número \")\n",
    "y = input(\"Digite outro número \")"
   ]
  },
  {
   "cell_type": "code",
   "execution_count": 64,
   "id": "78691aa2",
   "metadata": {},
   "outputs": [
    {
     "name": "stdout",
     "output_type": "stream",
     "text": [
      "Por favor digite um inteiro: 10\n",
      "Muito bem!!\n",
      "Tentativa numero:  1\n",
      "10\n"
     ]
    }
   ],
   "source": [
    "def pergunta_Numero():\n",
    "    numero = 1\n",
    "    while True:\n",
    "        try:\n",
    "            val = int(input(\"Por favor digite um inteiro: \"))\n",
    "        except:\n",
    "            print(\"Parece que você não digitou um inteiro!\") \n",
    "            continue \n",
    "        else: \n",
    "            print(\"Muito bem!!\") \n",
    "            break \n",
    "        finally: \n",
    "            print(\"Tentativa numero: \", numero)\n",
    "            numero = numero +1\n",
    "                        \n",
    "    print(val) \n",
    "                        \n",
    "pergunta_Numero()"
   ]
  },
  {
   "cell_type": "code",
   "execution_count": null,
   "id": "28f3c553",
   "metadata": {},
   "outputs": [],
   "source": []
  }
 ],
 "metadata": {
  "kernelspec": {
   "display_name": "Python 3 (ipykernel)",
   "language": "python",
   "name": "python3"
  },
  "language_info": {
   "codemirror_mode": {
    "name": "ipython",
    "version": 3
   },
   "file_extension": ".py",
   "mimetype": "text/x-python",
   "name": "python",
   "nbconvert_exporter": "python",
   "pygments_lexer": "ipython3",
   "version": "3.9.13"
  }
 },
 "nbformat": 4,
 "nbformat_minor": 5
}
