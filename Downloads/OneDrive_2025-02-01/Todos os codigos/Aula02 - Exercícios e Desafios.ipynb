{
 "cells": [
  {
   "cell_type": "code",
   "execution_count": null,
   "metadata": {},
   "outputs": [],
   "source": [
    "frase = input(\"Digite uma frase: \")\n",
    "print(\"A frase possui \" +str((frase.count('a')+frase.count('e')+frase.count('i')+frase.count('o')+frase.count('u')))+ \" vogais\")"
   ]
  },
  {
   "cell_type": "code",
   "execution_count": null,
   "metadata": {},
   "outputs": [],
   "source": [
    "print(\"A frase possui \" + str((frase.count(' '))) + \" espaços em branco\")"
   ]
  },
  {
   "cell_type": "code",
   "execution_count": null,
   "metadata": {},
   "outputs": [],
   "source": [
    "contrario = \"exercício\"\n",
    "print(contrario[len(contrario)-1] + contrario[len(contrario)-2] + contrario[len(contrario)-3] +  \n",
    "      contrario[len(contrario)-4] + contrario[len(contrario)-5] + contrario[len(contrario)-6] +\n",
    "      contrario[len(contrario)-7] + contrario[len(contrario)-8] +  contrario[len(contrario)-9])\n"
   ]
  }
 ],
 "metadata": {
  "kernelspec": {
   "display_name": "Python 3",
   "language": "python",
   "name": "python3"
  },
  "language_info": {
   "codemirror_mode": {
    "name": "ipython",
    "version": 3
   },
   "file_extension": ".py",
   "mimetype": "text/x-python",
   "name": "python",
   "nbconvert_exporter": "python",
   "pygments_lexer": "ipython3",
   "version": "3.7.0"
  }
 },
 "nbformat": 4,
 "nbformat_minor": 2
}
