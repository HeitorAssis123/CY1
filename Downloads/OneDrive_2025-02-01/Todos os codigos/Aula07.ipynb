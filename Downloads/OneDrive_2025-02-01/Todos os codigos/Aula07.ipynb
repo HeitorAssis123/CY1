{
 "cells": [
  {
   "cell_type": "markdown",
   "metadata": {},
   "source": [
    "# Funções"
   ]
  },
  {
   "cell_type": "markdown",
   "metadata": {},
   "source": [
    "### Sem parâmetros"
   ]
  },
  {
   "cell_type": "code",
   "execution_count": null,
   "metadata": {},
   "outputs": [],
   "source": [
    "def boas_vindas():\n",
    "    print(\"Bem-vindo(a) à Ctrl+Play!\")"
   ]
  },
  {
   "cell_type": "code",
   "execution_count": null,
   "metadata": {},
   "outputs": [],
   "source": [
    "boas_vindas()"
   ]
  },
  {
   "cell_type": "markdown",
   "metadata": {},
   "source": [
    "### Com parâmetros"
   ]
  },
  {
   "cell_type": "code",
   "execution_count": null,
   "metadata": {},
   "outputs": [],
   "source": [
    "def boas_vindas(nomeDeUsuario):\n",
    "    print(\"Bem-vindo(a),\", nomeDeUsuario ,\"à Ctrl+Play!\")"
   ]
  },
  {
   "cell_type": "code",
   "execution_count": null,
   "metadata": {},
   "outputs": [],
   "source": [
    "boas_vindas(\"Rennan\")"
   ]
  },
  {
   "cell_type": "markdown",
   "metadata": {},
   "source": [
    "### Argumentos posicionais"
   ]
  },
  {
   "cell_type": "code",
   "execution_count": null,
   "metadata": {},
   "outputs": [],
   "source": [
    "# a fórmula da velocidade é igual a V = d/t\n",
    "\n",
    "def velocidade(distancia,tempo):\n",
    "    print(distancia/tempo)"
   ]
  },
  {
   "cell_type": "markdown",
   "metadata": {},
   "source": [
    "### Argumentos nomeados"
   ]
  },
  {
   "cell_type": "code",
   "execution_count": null,
   "metadata": {},
   "outputs": [],
   "source": [
    "velocidade(tempo=5, distancia=100)"
   ]
  },
  {
   "cell_type": "markdown",
   "metadata": {},
   "source": [
    "### Valores Default"
   ]
  },
  {
   "cell_type": "code",
   "execution_count": null,
   "metadata": {},
   "outputs": [],
   "source": [
    "def velocidade(tempo, distancia=1000):\n",
    "    print(distancia/tempo)"
   ]
  },
  {
   "cell_type": "code",
   "execution_count": null,
   "metadata": {},
   "outputs": [],
   "source": [
    "#utilizando o valor default de distancia\n",
    "\n",
    "velocidade(25)"
   ]
  },
  {
   "cell_type": "markdown",
   "metadata": {},
   "source": [
    "### Return"
   ]
  },
  {
   "cell_type": "code",
   "execution_count": null,
   "metadata": {},
   "outputs": [],
   "source": [
    "def menor(a, b):\n",
    "    if a<=b:\n",
    "        return a\n",
    "    else:\n",
    "        return b\n",
    "    \n"
   ]
  },
  {
   "cell_type": "code",
   "execution_count": null,
   "metadata": {},
   "outputs": [],
   "source": [
    "a=5\n",
    "b=1\n",
    "\n",
    "print(\"O menor valor entre\",a,\"e\",b,\"é\",menor(a,b))"
   ]
  },
  {
   "cell_type": "markdown",
   "metadata": {},
   "source": [
    "### Número arbitrário de argumentos"
   ]
  },
  {
   "cell_type": "code",
   "execution_count": null,
   "metadata": {},
   "outputs": [],
   "source": [
    "def prepara_acai(*ingredientes, tamanho=\"medio\"):\n",
    "    print(\"\\n Preparando um Açaí\", tamanho, \"com os seguintes ingredientes: \")\n",
    "    for ingrediente in ingredientes:\n",
    "        print(\"-\",ingrediente)\n",
    "    \n"
   ]
  },
  {
   "cell_type": "code",
   "execution_count": null,
   "metadata": {},
   "outputs": [],
   "source": [
    "prepara_acai(\"banana\",\"granola\")\n",
    "prepara_acai(\"morango\",\"kiwi\",\"leite em pó\",tamanho=\"grande\")\n",
    "prepara_acai(\"banana\",tamanho=\"pequeno\")\n",
    "prepara_acai()"
   ]
  },
  {
   "cell_type": "markdown",
   "metadata": {},
   "source": [
    "### Funções com Funções"
   ]
  },
  {
   "cell_type": "code",
   "execution_count": null,
   "metadata": {},
   "outputs": [],
   "source": [
    "def menor(lista):\n",
    "    menorValor = lista[0]\n",
    "    for x in lista:\n",
    "        if(x<menorValor):\n",
    "            menorValor=x\n",
    "    return menorValor\n",
    "\n",
    "def maior(lista):\n",
    "    maiorValor = lista[0]\n",
    "    for x in lista:\n",
    "        if(x>maiorValor):\n",
    "            maiorValor=x\n",
    "    return maiorValor\n",
    "\n",
    "def maiorEMenor(lista):\n",
    "    print(\"Maior:\",maior(lista))\n",
    "    print(\"Menor:\",menor(lista))\n",
    "    \n",
    "    \n",
    "    \n",
    "maiorEMenor([4,5,6,2,1,3])"
   ]
  },
  {
   "cell_type": "markdown",
   "metadata": {},
   "source": [
    "### Função Recursiva"
   ]
  },
  {
   "cell_type": "code",
   "execution_count": 1,
   "metadata": {},
   "outputs": [
    {
     "data": {
      "text/plain": [
       "4"
      ]
     },
     "execution_count": 1,
     "metadata": {},
     "output_type": "execute_result"
    }
   ],
   "source": [
    "def dobraLencol(lencol,gaveta):\n",
    "    if(lencol<gaveta):\n",
    "        return 0\n",
    "    else:\n",
    "        return 1 + dobraLencol(lencol/2,gaveta)\n",
    "\n",
    "dobraLencol(200,25)"
   ]
  },
  {
   "cell_type": "markdown",
   "metadata": {},
   "source": [
    "## Desafios"
   ]
  },
  {
   "cell_type": "markdown",
   "metadata": {},
   "source": [
    "#### Desafio 1"
   ]
  },
  {
   "cell_type": "code",
   "execution_count": null,
   "metadata": {},
   "outputs": [],
   "source": [
    "valor = input().split(\" \")\n",
    "\n",
    "a, b, c = valor\n",
    "\n",
    "#transformando strings em inteiros\n",
    "a = int(a)\n",
    "b = int(b)\n",
    "c = int(c)\n",
    "\n",
    "def maior(a,b,c):\n",
    "    x = ((a+b)+abs(a-b))/2\n",
    "    return ((x+c)+abs(x-c))/2\n",
    "\n",
    "#imprimindo com apenas um digito\n",
    "print(\"%d eh o maior\" %maior(a,b,c))"
   ]
  },
  {
   "cell_type": "markdown",
   "metadata": {},
   "source": [
    "#### Desafio 2"
   ]
  },
  {
   "cell_type": "code",
   "execution_count": null,
   "metadata": {},
   "outputs": [],
   "source": [
    "valor = input()\n",
    "\n",
    "def cedulas(valor):\n",
    "    print(valor)\n",
    "    notas = valor/100\n",
    "    print(\"%d nota(s) de R$ 100,00\" %notas)\n",
    "    valor = valor%100\n",
    "    \n",
    "    notas = valor/50\n",
    "    print(\"%d nota(s) de R$ 50,00\" %notas)\n",
    "    valor = valor%50\n",
    "    \n",
    "    notas = valor/20\n",
    "    print(\"%d nota(s) de R$ 20,00\" %notas)\n",
    "    valor = valor%20\n",
    "    \n",
    "    notas = valor/10\n",
    "    print(\"%d nota(s) de R$ 10,00\" %notas)\n",
    "    valor = valor%10\n",
    "    \n",
    "    notas = valor/5\n",
    "    print(\"%d nota(s) de R$ 5,00\" %notas)\n",
    "    valor = valor%5\n",
    "    \n",
    "    notas = valor/2\n",
    "    print(\"%d nota(s) de R$ 2,00\" %notas)\n",
    "    valor = valor%2\n",
    "    \n",
    "    print(\"%d nota(s) de R$ 1,00\" %valor)\n",
    "   \n",
    "cedulas(int(valor))"
   ]
  },
  {
   "cell_type": "code",
   "execution_count": null,
   "metadata": {},
   "outputs": [],
   "source": []
  }
 ],
 "metadata": {
  "kernelspec": {
   "display_name": "Python 3",
   "language": "python",
   "name": "python3"
  },
  "language_info": {
   "codemirror_mode": {
    "name": "ipython",
    "version": 3
   },
   "file_extension": ".py",
   "mimetype": "text/x-python",
   "name": "python",
   "nbconvert_exporter": "python",
   "pygments_lexer": "ipython3",
   "version": "3.7.0"
  }
 },
 "nbformat": 4,
 "nbformat_minor": 2
}
